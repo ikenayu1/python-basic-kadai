{
  "nbformat": 4,
  "nbformat_minor": 0,
  "metadata": {
    "colab": {
      "provenance": []
    },
    "kernelspec": {
      "name": "python3",
      "display_name": "Python 3"
    },
    "language_info": {
      "name": "python"
    }
  },
  "cells": [
    {
      "cell_type": "code",
      "source": [
        "var=20\n",
        "if var % 3 == 0 and var % 5 == 0:\n",
        "  print (\"FizzBuzz\")\n",
        "elif var % 5 == 0 :\n",
        "  print (\"Buzz\")\n",
        "elif var % 3 == 0 :\n",
        "  print (\"Fizz\")\n",
        "else :\n",
        "  print(var)"
      ],
      "metadata": {
        "colab": {
          "base_uri": "https://localhost:8080/"
        },
        "id": "rihhxaPhBtwx",
        "outputId": "feccf8d4-b3eb-46d3-fc9d-a91a833f6e52"
      },
      "execution_count": null,
      "outputs": [
        {
          "output_type": "stream",
          "name": "stdout",
          "text": [
            "Buzz\n"
          ]
        }
      ]
    },
    {
      "cell_type": "code",
      "source": [
        "num = 50\n",
        "if 10 < num:\n",
        "  print(\"変数numは10より大きいです\")\n",
        "\n",
        "  if num < 20:\n",
        "    print(\"変数numは20より小さいです\")\n",
        ""
      ],
      "metadata": {
        "colab": {
          "base_uri": "https://localhost:8080/"
        },
        "id": "1OYdEKh6btTh",
        "outputId": "fc2c362c-92fb-42d2-d2d8-92ff98e29aa6"
      },
      "execution_count": 1,
      "outputs": [
        {
          "output_type": "stream",
          "name": "stdout",
          "text": [
            "変数numは10より大きいです\n"
          ]
        }
      ]
    },
    {
      "cell_type": "code",
      "source": [
        "print(45+18)\n",
        "print(45>18)"
      ],
      "metadata": {
        "id": "p3FPktRvEZI4",
        "colab": {
          "base_uri": "https://localhost:8080/"
        },
        "outputId": "5393a26f-30af-46d4-85cd-31ed6e3704a8"
      },
      "execution_count": 2,
      "outputs": [
        {
          "output_type": "stream",
          "name": "stdout",
          "text": [
            "63\n",
            "True\n"
          ]
        }
      ]
    },
    {
      "cell_type": "code",
      "source": [
        "print(\"5\"== 5 )\n",
        "nu"
      ],
      "metadata": {
        "colab": {
          "base_uri": "https://localhost:8080/"
        },
        "id": "eQNq_FIhdPx_",
        "outputId": "fc91735b-8905-438f-b752-5f66cdb4a993"
      },
      "execution_count": 3,
      "outputs": [
        {
          "output_type": "stream",
          "name": "stdout",
          "text": [
            "False\n"
          ]
        }
      ]
    },
    {
      "cell_type": "code",
      "source": [],
      "metadata": {
        "id": "67856n0Sdqve"
      },
      "execution_count": null,
      "outputs": []
    },
    {
      "cell_type": "code",
      "source": [
        "num1 = 5\n",
        "num2 = \"5\"\n",
        "\n",
        "if num1 == int(num2):\n",
        "  print(\"num1とnum2は等しいです\")"
      ],
      "metadata": {
        "colab": {
          "base_uri": "https://localhost:8080/"
        },
        "id": "OVSY_ea9dY4p",
        "outputId": "0bffa7ed-6747-4d37-be35-30ffea9fd1d4"
      },
      "execution_count": 6,
      "outputs": [
        {
          "output_type": "stream",
          "name": "stdout",
          "text": [
            "num1とnum2は等しいです\n"
          ]
        }
      ]
    },
    {
      "cell_type": "code",
      "source": [
        "import random\n",
        "num = random.randint(0,4)\n",
        "\n",
        "if num == 4:\n",
        "  print(\"大当たりです\")\n",
        ""
      ],
      "metadata": {
        "id": "rEsoT_vadyVw"
      },
      "execution_count": 7,
      "outputs": []
    },
    {
      "cell_type": "code",
      "source": [
        "import random\n",
        "num = random,randint(0,4)\n",
        "print(\n",
        "    num)\n",
        "\n"
      ],
      "metadata": {
        "id": "EM7FXayoeTYd"
      },
      "execution_count": null,
      "outputs": []
    },
    {
      "cell_type": "code",
      "source": [
        "for i in range(1, 11):\n",
        "  print(i)"
      ],
      "metadata": {
        "colab": {
          "base_uri": "https://localhost:8080/"
        },
        "id": "2_zIdHYojPeJ",
        "outputId": "f89ebc06-2c14-4ed5-8288-d9d98076006e"
      },
      "execution_count": 13,
      "outputs": [
        {
          "output_type": "stream",
          "name": "stdout",
          "text": [
            "1\n",
            "2\n",
            "3\n",
            "4\n",
            "5\n",
            "6\n",
            "7\n",
            "8\n",
            "9\n",
            "10\n"
          ]
        }
      ]
    },
    {
      "cell_type": "code",
      "source": [
        "range(3)\n",
        "range(6,9)\n",
        "range(5,11,2)"
      ],
      "metadata": {
        "colab": {
          "base_uri": "https://localhost:8080/"
        },
        "id": "OsJWdJhQjVZ5",
        "outputId": "a317c4bc-a4b0-4924-f484-32ff2dc4e9bc"
      },
      "execution_count": 14,
      "outputs": [
        {
          "output_type": "execute_result",
          "data": {
            "text/plain": [
              "range(5, 11, 2)"
            ]
          },
          "metadata": {},
          "execution_count": 14
        }
      ]
    },
    {
      "cell_type": "code",
      "source": [
        "for i in range(1,11):\n",
        "  print(i)\n",
        "\n",
        "  if i == 5:\n",
        "      break"
      ],
      "metadata": {
        "colab": {
          "base_uri": "https://localhost:8080/"
        },
        "id": "j_xX7lJskAfG",
        "outputId": "8faf4a4c-ffda-4520-94b0-61152f6c644f"
      },
      "execution_count": 19,
      "outputs": [
        {
          "output_type": "stream",
          "name": "stdout",
          "text": [
            "1\n",
            "2\n",
            "3\n",
            "4\n",
            "5\n"
          ]
        }
      ]
    },
    {
      "cell_type": "code",
      "source": [],
      "metadata": {
        "id": "nyHhVOjJktpj"
      },
      "execution_count": null,
      "outputs": []
    },
    {
      "cell_type": "code",
      "source": [
        "import random\n",
        "for i in range(1, 11):\n",
        "  num = random.randint(1,20)\n",
        "  print(f\"{i}回目の結果は{num}です。\")\n",
        "\n",
        "  if num == 20:\n",
        "    print(\"20が出たので繰り返し処理を強制終了します。\")\n",
        "    break"
      ],
      "metadata": {
        "colab": {
          "base_uri": "https://localhost:8080/"
        },
        "id": "jQ4zRtB4kMuG",
        "outputId": "4d85217b-06a5-40d3-d708-75d48a5b765b"
      },
      "execution_count": 26,
      "outputs": [
        {
          "output_type": "stream",
          "name": "stdout",
          "text": [
            "1回目の結果は12です。\n",
            "2回目の結果は7です。\n",
            "3回目の結果は1です。\n",
            "4回目の結果は16です。\n",
            "5回目の結果は7です。\n",
            "6回目の結果は1です。\n",
            "7回目の結果は15です。\n",
            "8回目の結果は8です。\n",
            "9回目の結果は6です。\n",
            "10回目の結果は14です。\n"
          ]
        }
      ]
    },
    {
      "cell_type": "code",
      "source": [
        "for i in range(1,11):\n",
        "  if i % 2 == 1:\n",
        "    continue\n",
        "\n",
        "  print(i)"
      ],
      "metadata": {
        "colab": {
          "base_uri": "https://localhost:8080/"
        },
        "id": "sNpzUvWjlUIL",
        "outputId": "3d0061d7-9061-4955-c42b-446e1e6931c5"
      },
      "execution_count": 27,
      "outputs": [
        {
          "output_type": "stream",
          "name": "stdout",
          "text": [
            "2\n",
            "4\n",
            "6\n",
            "8\n",
            "10\n"
          ]
        }
      ]
    },
    {
      "cell_type": "code",
      "source": [
        "import random\n",
        "num = random. randint(0,4)\n",
        "while num != 0:\n",
        "  num = random.randint(0,4)\n",
        "  print(num)\n",
        ""
      ],
      "metadata": {
        "colab": {
          "base_uri": "https://localhost:8080/"
        },
        "id": "Bk9A52dLmMFT",
        "outputId": "dbab461f-35b9-45fb-962a-6e45d2ba56d9"
      },
      "execution_count": 30,
      "outputs": [
        {
          "output_type": "stream",
          "name": "stdout",
          "text": [
            "2\n",
            "1\n",
            "3\n",
            "4\n",
            "0\n"
          ]
        }
      ]
    },
    {
      "cell_type": "code",
      "source": [
        "import random\n",
        "num = random.randint(0,4)\n",
        "print(f\"最初の値は{num}です。\")\n",
        "while num !=0:\n",
        "  num = random.randint(0,4)\n",
        "  print(f\"現在の値は{num}です\")"
      ],
      "metadata": {
        "colab": {
          "base_uri": "https://localhost:8080/"
        },
        "id": "X5InStLaoAfU",
        "outputId": "6cc76c79-c7d6-4f59-e963-c37ceec0e58a"
      },
      "execution_count": 37,
      "outputs": [
        {
          "output_type": "stream",
          "name": "stdout",
          "text": [
            "最初の値は1です。\n",
            "現在の値は2です\n",
            "現在の値は2です\n",
            "現在の値は2です\n",
            "現在の値は3です\n",
            "現在の値は1です\n",
            "現在の値は1です\n",
            "現在の値は1です\n",
            "現在の値は3です\n",
            "現在の値は4です\n",
            "現在の値は4です\n",
            "現在の値は2です\n",
            "現在の値は2です\n",
            "現在の値は4です\n",
            "現在の値は1です\n",
            "現在の値は3です\n",
            "現在の値は3です\n",
            "現在の値は3です\n",
            "現在の値は2です\n",
            "現在の値は4です\n",
            "現在の値は2です\n",
            "現在の値は2です\n",
            "現在の値は1です\n",
            "現在の値は0です\n"
          ]
        }
      ]
    },
    {
      "cell_type": "code",
      "source": [
        "import random\n",
        "num = random.randint(0,4)\n",
        "i = 1\n",
        "print(f\"最初の値は{num}です。\")\n",
        "while num != 0:\n",
        "  num = random.randint(0,4)\n",
        "  if i == 5:\n",
        "    print(\"5回目なので繰り返し処理を強制終了します。\")\n",
        "    break"
      ],
      "metadata": {
        "colab": {
          "base_uri": "https://localhost:8080/"
        },
        "id": "wVlHDRToom8b",
        "outputId": "db3249ca-6e90-496f-a4f5-becefc7721db"
      },
      "execution_count": 39,
      "outputs": [
        {
          "output_type": "stream",
          "name": "stdout",
          "text": [
            "最初の値は4です。\n"
          ]
        }
      ]
    },
    {
      "cell_type": "code",
      "source": [],
      "metadata": {
        "id": "euHK3sbVrEp3"
      },
      "execution_count": null,
      "outputs": []
    },
    {
      "cell_type": "code",
      "source": [
        "import random\n",
        "sum = 0\n",
        "while sum < 20:\n",
        "  num = random.randint(1,10)\n",
        "  print(f\"{num}が出ました。\")\n",
        "  if num % 2 == 0:\n",
        "    print(\"偶数なので加算しません\")\n",
        "    continue\n",
        "\n",
        "  sum = sum + num\n",
        "  print(f\"現在の合計は{sum}です。\")\n"
      ],
      "metadata": {
        "colab": {
          "base_uri": "https://localhost:8080/"
        },
        "id": "mTD5cqlIqAb6",
        "outputId": "9fde4118-e421-4131-abcb-3c82f883aa78"
      },
      "execution_count": 41,
      "outputs": [
        {
          "output_type": "stream",
          "name": "stdout",
          "text": [
            "6が出ました。\n",
            "偶数なので加算しません\n",
            "1が出ました。\n",
            "現在の合計は1です。\n",
            "10が出ました。\n",
            "偶数なので加算しません\n",
            "9が出ました。\n",
            "現在の合計は10です。\n",
            "4が出ました。\n",
            "偶数なので加算しません\n",
            "1が出ました。\n",
            "現在の合計は11です。\n",
            "2が出ました。\n",
            "偶数なので加算しません\n",
            "2が出ました。\n",
            "偶数なので加算しません\n",
            "2が出ました。\n",
            "偶数なので加算しません\n",
            "9が出ました。\n",
            "現在の合計は20です。\n"
          ]
        }
      ]
    },
    {
      "cell_type": "code",
      "source": [
        "score = {\n",
        "   \"国語\":80,\n",
        "   \"算数\":55,\n",
        "   \"理科\":70,\n",
        "   \"社会\":85,\n",
        "   \"英語\":60\n",
        " }\n",
        "\n",
        "print(\"合格した科目は以下のとおりです。\")\n",
        "\n",
        "for key, value in score.items():\n",
        "\n",
        "    if(value < 70):\n",
        "          continue\n",
        "    print(f\"{key} : {value}点\")\n"
      ],
      "metadata": {
        "colab": {
          "base_uri": "https://localhost:8080/"
        },
        "id": "-mhYQNzDrZfL",
        "outputId": "8e16116e-f4df-4cff-e0d4-6e745c75b16e"
      },
      "execution_count": 6,
      "outputs": [
        {
          "output_type": "stream",
          "name": "stdout",
          "text": [
            "合格した科目は以下のとおりです。\n",
            "国語 : 80点\n",
            "理科 : 70点\n",
            "社会 : 85点\n"
          ]
        }
      ]
    },
    {
      "cell_type": "code",
      "source": [
        "array[\"水\",\"金\",\"地\",\"火\",\"木\",\"土\",\"天\",\"海\",\"冥\"]\n",
        "\n",
        "for i in range(len(array))\n",
        " print(array(i))\n"
      ],
      "metadata": {
        "id": "UEaaFbmLthif"
      },
      "execution_count": null,
      "outputs": []
    },
    {
      "cell_type": "markdown",
      "source": [],
      "metadata": {
        "id": "TEuq1CBC_YO7"
      }
    },
    {
      "cell_type": "code",
      "source": [
        "array = [\"水\",\"金\",\"地\",\"火\",\"木\",\"土\",\"天\",\"海\",\"冥\"]\n",
        "\n",
        "for i in range(len(array)):\n",
        " print(array[i])\n"
      ],
      "metadata": {
        "colab": {
          "base_uri": "https://localhost:8080/"
        },
        "id": "25eUfgu1_fwZ",
        "outputId": "a29c26e6-5d30-4190-93a9-caccb592f567"
      },
      "execution_count": 10,
      "outputs": [
        {
          "output_type": "stream",
          "name": "stdout",
          "text": [
            "水\n",
            "金\n",
            "地\n",
            "火\n",
            "木\n",
            "土\n",
            "天\n",
            "海\n",
            "冥\n"
          ]
        }
      ]
    },
    {
      "cell_type": "code",
      "source": [
        "array = [\"水\",\"金\",\"地\",\"火\",\"木\",\"土\",\"天\",\"海\",\"冥\"]\n",
        "i = 0\n",
        "while i < len(array):\n",
        "  print(array[i])\n",
        "  i += 1"
      ],
      "metadata": {
        "id": "GNh2oG9i_UHS",
        "outputId": "94f9af1f-6155-43d3-c632-218eb3f360d0",
        "colab": {
          "base_uri": "https://localhost:8080/"
        }
      },
      "execution_count": 16,
      "outputs": [
        {
          "output_type": "stream",
          "name": "stdout",
          "text": [
            "水\n",
            "金\n",
            "地\n",
            "火\n",
            "木\n",
            "土\n",
            "天\n",
            "海\n",
            "冥\n"
          ]
        }
      ]
    },
    {
      "cell_type": "markdown",
      "source": [
        "w"
      ],
      "metadata": {
        "id": "lnpulRKD_UgP"
      }
    },
    {
      "cell_type": "code",
      "source": [],
      "metadata": {
        "id": "OIeokmi-AZcp"
      },
      "execution_count": null,
      "outputs": []
    },
    {
      "cell_type": "code",
      "source": [],
      "metadata": {
        "id": "X-ofKCZm_Ki2"
      },
      "execution_count": null,
      "outputs": []
    }
  ]
}