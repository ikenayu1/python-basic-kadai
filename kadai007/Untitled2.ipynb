{
  "nbformat": 4,
  "nbformat_minor": 0,
  "metadata": {
    "colab": {
      "provenance": []
    },
    "kernelspec": {
      "name": "python3",
      "display_name": "Python 3"
    },
    "language_info": {
      "name": "python"
    }
  },
  "cells": [
    {
      "cell_type": "code",
      "execution_count": 1,
      "metadata": {
        "colab": {
          "base_uri": "https://localhost:8080/"
        },
        "id": "3LgOWXjjteWo",
        "outputId": "8dd951e2-ae6a-4bb4-9499-60613b639aaf"
      },
      "outputs": [
        {
          "output_type": "stream",
          "name": "stdout",
          "text": [
            "水曜は晴れです\n",
            "晴れ\n"
          ]
        }
      ],
      "source": [
        "array = [\"月曜は晴れです\",\"火曜は雨です\",\"水曜は晴れです\",\"木曜は晴れです\",\"金曜は曇りです\",\"土曜は曇りのち雨です\",\"日曜は雷雨です\"]\n",
        "dictionary = {\"mon\": \"晴れ\", \"tue\": \"雨\", \"wed\" : \"晴れ\", \"thu\" : \"晴れ\", \"fri\" : \"曇り\", \"sat\": \"曇りのち雨\", \"sun\" : \"雷雨\"}\n",
        "print(array[2])\n",
        "print(dictionary[\"wed\"])"
      ]
    },
    {
      "cell_type": "code",
      "source": [],
      "metadata": {
        "id": "Md2sXqyhthYL"
      },
      "execution_count": null,
      "outputs": []
    }
  ]
}