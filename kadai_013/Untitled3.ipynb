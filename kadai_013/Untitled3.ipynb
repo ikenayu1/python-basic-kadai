{
  "nbformat": 4,
  "nbformat_minor": 0,
  "metadata": {
    "colab": {
      "provenance": []
    },
    "kernelspec": {
      "name": "python3",
      "display_name": "Python 3"
    },
    "language_info": {
      "name": "python"
    }
  },
  "cells": [
    {
      "cell_type": "code",
      "source": [
        "def calculate_price_with_tax(price, tax_rate):\n",
        "    tax_amount = price * (tax_rate / 100)\n",
        "    total_price = price + tax_amount\n",
        "    return total_price\n",
        "\n",
        "price = 110\n",
        "tax_rate = 10\n",
        "\n",
        "total_price = calculate_price_with_tax(price, tax_rate)\n",
        "print(f\"消費税を含む総額は:{total_price}円です\")"
      ],
      "metadata": {
        "colab": {
          "base_uri": "https://localhost:8080/"
        },
        "id": "BgpjPPUw9Wel",
        "outputId": "935e5714-3e38-4813-b52e-82dd3a6dd895"
      },
      "execution_count": 32,
      "outputs": [
        {
          "output_type": "stream",
          "name": "stdout",
          "text": [
            "消費税を含む総額は:121.0円です\n"
          ]
        }
      ]
    },
    {
      "cell_type": "code",
      "source": [],
      "metadata": {
        "id": "pmQufMBCB4sf"
      },
      "execution_count": 25,
      "outputs": []
    },
    {
      "cell_type": "code",
      "source": [],
      "metadata": {
        "id": "p3UwpwSb_4oI"
      },
      "execution_count": null,
      "outputs": []
    }
  ]
}