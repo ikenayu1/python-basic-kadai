{
  "nbformat": 4,
  "nbformat_minor": 0,
  "metadata": {
    "colab": {
      "provenance": []
    },
    "kernelspec": {
      "name": "python3",
      "display_name": "Python 3"
    },
    "language_info": {
      "name": "python"
    }
  },
  "cells": [
    {
      "cell_type": "code",
      "source": [
        "var=20\n",
        "if var % 3 == 0 and var % 5 == 0:\n",
        "  print (\"FizzBuzz\")\n",
        "elif var % 5 == 0 :\n",
        "  print (\"Buzz\")\n",
        "elif var % 3 == 0 :\n",
        "  print (\"Fizz\")\n",
        "else :\n",
        "  print(var)"
      ],
      "metadata": {
        "colab": {
          "base_uri": "https://localhost:8080/"
        },
        "id": "rihhxaPhBtwx",
        "outputId": "feccf8d4-b3eb-46d3-fc9d-a91a833f6e52"
      },
      "execution_count": 51,
      "outputs": [
        {
          "output_type": "stream",
          "name": "stdout",
          "text": [
            "Buzz\n"
          ]
        }
      ]
    },
    {
      "cell_type": "code",
      "source": [],
      "metadata": {
        "id": "p3FPktRvEZI4"
      },
      "execution_count": null,
      "outputs": []
    }
  ]
}